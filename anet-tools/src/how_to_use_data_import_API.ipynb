{
 "cells": [
  {
   "cell_type": "markdown",
   "metadata": {},
   "source": [
    "# HOW TO USE DATA IMPORT API"
   ]
  },
  {
   "cell_type": "markdown",
   "metadata": {},
   "source": [
    "# IMPORT FROM SOURCES"
   ]
  },
  {
   "cell_type": "markdown",
   "metadata": {},
   "source": [
    "## IMPORT FROM CSV - data.py"
   ]
  },
  {
   "cell_type": "code",
   "execution_count": 1,
   "metadata": {
    "tags": []
   },
   "outputs": [],
   "source": [
    "from data import csv"
   ]
  },
  {
   "cell_type": "code",
   "execution_count": 2,
   "metadata": {
    "tags": []
   },
   "outputs": [],
   "source": [
    "csv_full_path = \"../data/anet_import_data.csv\""
   ]
  },
  {
   "cell_type": "code",
   "execution_count": 3,
   "metadata": {
    "tags": []
   },
   "outputs": [],
   "source": [
    "csv_obj = csv(csv_full_path)"
   ]
  },
  {
   "cell_type": "code",
   "execution_count": 4,
   "metadata": {
    "tags": []
   },
   "outputs": [],
   "source": [
    "csv_obj.read_csv_file()"
   ]
  },
  {
   "cell_type": "code",
   "execution_count": 5,
   "metadata": {
    "tags": []
   },
   "outputs": [
    {
     "data": {
      "text/html": [
       "<div>\n",
       "<style scoped>\n",
       "    .dataframe tbody tr th:only-of-type {\n",
       "        vertical-align: middle;\n",
       "    }\n",
       "\n",
       "    .dataframe tbody tr th {\n",
       "        vertical-align: top;\n",
       "    }\n",
       "\n",
       "    .dataframe thead th {\n",
       "        text-align: right;\n",
       "    }\n",
       "</style>\n",
       "<table border=\"1\" class=\"dataframe\">\n",
       "  <thead>\n",
       "    <tr style=\"text-align: right;\">\n",
       "      <th></th>\n",
       "      <th>apps idc</th>\n",
       "      <th>tashkera</th>\n",
       "      <th>actual rank</th>\n",
       "      <th>tashkil rank</th>\n",
       "      <th>employee name</th>\n",
       "      <th>family name</th>\n",
       "      <th>fathers name</th>\n",
       "      <th>grandfathers name</th>\n",
       "      <th>dob</th>\n",
       "      <th>enrollment date</th>\n",
       "      <th>...</th>\n",
       "      <th>position</th>\n",
       "      <th>tashkil gender</th>\n",
       "      <th>tashkera.1</th>\n",
       "      <th>province</th>\n",
       "      <th>district</th>\n",
       "      <th>hazard duty level</th>\n",
       "      <th>permanent address</th>\n",
       "      <th>permanent district</th>\n",
       "      <th>ethnicity</th>\n",
       "      <th>level of education</th>\n",
       "    </tr>\n",
       "  </thead>\n",
       "  <tbody>\n",
       "    <tr>\n",
       "      <th>0</th>\n",
       "      <td>1254789652365478965</td>\n",
       "      <td>7854216</td>\n",
       "      <td>CIV</td>\n",
       "      <td>CIV</td>\n",
       "      <td>Christopf</td>\n",
       "      <td>TOPFERNESS</td>\n",
       "      <td>Christopfs fathers name</td>\n",
       "      <td>Christopfs grandfathers name</td>\n",
       "      <td>dob</td>\n",
       "      <td>2019-08-20 11:33:30</td>\n",
       "      <td>...</td>\n",
       "      <td>NaN</td>\n",
       "      <td>NaN</td>\n",
       "      <td>NaN</td>\n",
       "      <td>NaN</td>\n",
       "      <td>NaN</td>\n",
       "      <td>NaN</td>\n",
       "      <td>NaN</td>\n",
       "      <td>NaN</td>\n",
       "      <td>NaN</td>\n",
       "      <td>NaN</td>\n",
       "    </tr>\n",
       "    <tr>\n",
       "      <th>1</th>\n",
       "      <td>4567894523325478965</td>\n",
       "      <td>6547324</td>\n",
       "      <td>MGN</td>\n",
       "      <td>MGN</td>\n",
       "      <td>Lucy</td>\n",
       "      <td>CECHTELAR</td>\n",
       "      <td>Lucys fathers name</td>\n",
       "      <td>Lucys grandfathers name</td>\n",
       "      <td>dob</td>\n",
       "      <td>2020-08-12 7:33:30</td>\n",
       "      <td>...</td>\n",
       "      <td>NaN</td>\n",
       "      <td>NaN</td>\n",
       "      <td>NaN</td>\n",
       "      <td>NaN</td>\n",
       "      <td>NaN</td>\n",
       "      <td>NaN</td>\n",
       "      <td>NaN</td>\n",
       "      <td>NaN</td>\n",
       "      <td>NaN</td>\n",
       "      <td>NaN</td>\n",
       "    </tr>\n",
       "    <tr>\n",
       "      <th>2</th>\n",
       "      <td>8564738765347809876</td>\n",
       "      <td>4563746</td>\n",
       "      <td>LTC</td>\n",
       "      <td>LTC</td>\n",
       "      <td>Thiel</td>\n",
       "      <td>KEEGAN</td>\n",
       "      <td>Thiels fathers name</td>\n",
       "      <td>Roscoes grandfathers name</td>\n",
       "      <td>dob</td>\n",
       "      <td>2020-01-07 4:33:30</td>\n",
       "      <td>...</td>\n",
       "      <td>NaN</td>\n",
       "      <td>NaN</td>\n",
       "      <td>NaN</td>\n",
       "      <td>NaN</td>\n",
       "      <td>NaN</td>\n",
       "      <td>NaN</td>\n",
       "      <td>NaN</td>\n",
       "      <td>NaN</td>\n",
       "      <td>NaN</td>\n",
       "      <td>NaN</td>\n",
       "    </tr>\n",
       "  </tbody>\n",
       "</table>\n",
       "<p>3 rows × 32 columns</p>\n",
       "</div>"
      ],
      "text/plain": [
       "              apps idc  tashkera actual rank tashkil rank employee name  \\\n",
       "0  1254789652365478965   7854216         CIV          CIV     Christopf   \n",
       "1  4567894523325478965   6547324         MGN          MGN          Lucy   \n",
       "2  8564738765347809876   4563746         LTC          LTC         Thiel   \n",
       "\n",
       "  family name             fathers name             grandfathers name  dob  \\\n",
       "0  TOPFERNESS  Christopfs fathers name  Christopfs grandfathers name  dob   \n",
       "1   CECHTELAR       Lucys fathers name       Lucys grandfathers name  dob   \n",
       "2      KEEGAN      Thiels fathers name     Roscoes grandfathers name  dob   \n",
       "\n",
       "       enrollment date  ... position tashkil gender tashkera.1 province  \\\n",
       "0  2019-08-20 11:33:30  ...      NaN            NaN        NaN      NaN   \n",
       "1   2020-08-12 7:33:30  ...      NaN            NaN        NaN      NaN   \n",
       "2   2020-01-07 4:33:30  ...      NaN            NaN        NaN      NaN   \n",
       "\n",
       "  district hazard duty level permanent address  permanent district  ethnicity  \\\n",
       "0      NaN               NaN               NaN                 NaN        NaN   \n",
       "1      NaN               NaN               NaN                 NaN        NaN   \n",
       "2      NaN               NaN               NaN                 NaN        NaN   \n",
       "\n",
       "   level of education  \n",
       "0                 NaN  \n",
       "1                 NaN  \n",
       "2                 NaN  \n",
       "\n",
       "[3 rows x 32 columns]"
      ]
     },
     "execution_count": 5,
     "metadata": {},
     "output_type": "execute_result"
    }
   ],
   "source": [
    "csv_obj.df"
   ]
  },
  {
   "cell_type": "markdown",
   "metadata": {},
   "source": [
    "## IMPORT FROM XLSX - data.py"
   ]
  },
  {
   "cell_type": "code",
   "execution_count": null,
   "metadata": {},
   "outputs": [],
   "source": [
    "from data import xlsx"
   ]
  },
  {
   "cell_type": "code",
   "execution_count": null,
   "metadata": {},
   "outputs": [],
   "source": [
    "xlsx_full_path = \"../data/people.xlsx\""
   ]
  },
  {
   "cell_type": "code",
   "execution_count": null,
   "metadata": {},
   "outputs": [],
   "source": [
    "xlsx_obj = xlsx(xlsx_full_path)"
   ]
  },
  {
   "cell_type": "code",
   "execution_count": null,
   "metadata": {},
   "outputs": [],
   "source": [
    "xlsx_obj.read_xlsx_file(\"second_sheet\")"
   ]
  },
  {
   "cell_type": "code",
   "execution_count": null,
   "metadata": {},
   "outputs": [],
   "source": [
    "xlsx_obj.df"
   ]
  },
  {
   "cell_type": "raw",
   "metadata": {},
   "source": [
    "xlsx_obj.read_xlsx_file(sheet_name=\"all\")\n",
    "xlsx_obj.df[\"first_sheet\"]\n",
    "xlsx_obj.df[\"second_sheet\"]"
   ]
  },
  {
   "cell_type": "code",
   "execution_count": null,
   "metadata": {},
   "outputs": [],
   "source": []
  },
  {
   "cell_type": "markdown",
   "metadata": {},
   "source": [
    "## IMPORT FROM ACTIVE DIRECTORY ad.py"
   ]
  },
  {
   "cell_type": "code",
   "execution_count": null,
   "metadata": {},
   "outputs": [],
   "source": [
    "from ad import ad"
   ]
  },
  {
   "cell_type": "code",
   "execution_count": null,
   "metadata": {},
   "outputs": [],
   "source": [
    "ad_config =  {\n",
    "    \"LDAP_SERVER\" : \"<LDAP_SERVER>\",\n",
    "    \"BASE_DN\" : \"<BASE_DN>\",  # base dn to search in\n",
    "    \"LDAP_LOGIN\" : \"<LDAP_LOGIN>\",\n",
    "    \"LDAP_PASSWORD\" : \"<LDAP_PASSWORD>\"\n",
    "}"
   ]
  },
  {
   "cell_type": "code",
   "execution_count": null,
   "metadata": {},
   "outputs": [],
   "source": [
    "ad_obj = ad(ad_config)"
   ]
  },
  {
   "cell_type": "code",
   "execution_count": null,
   "metadata": {
    "scrolled": true
   },
   "outputs": [],
   "source": [
    "ad_obj.connect()"
   ]
  },
  {
   "cell_type": "code",
   "execution_count": null,
   "metadata": {},
   "outputs": [],
   "source": [
    "search_filter = \"objectCategory=Person\"\n",
    "search_attribute = [\"mail\", \"sAMAccountName\", \"displayName\"]\n",
    "\n",
    "ad_obj.search(search_filter, search_attribute)"
   ]
  },
  {
   "cell_type": "code",
   "execution_count": null,
   "metadata": {},
   "outputs": [],
   "source": [
    "type(ad_obj.data_list)"
   ]
  },
  {
   "cell_type": "code",
   "execution_count": null,
   "metadata": {},
   "outputs": [],
   "source": [
    "ad_obj.data_list"
   ]
  },
  {
   "cell_type": "code",
   "execution_count": null,
   "metadata": {},
   "outputs": [],
   "source": [
    "# LOOP THROUGH THE DICTIONARY AND PRINT VALUES\n",
    "for i in ad_obj.data_list:\n",
    "    rawDict = i[1]\n",
    "    data = {k: v[0] for k, v in rawDict.items()}\n",
    "    if all(key in data for key in ('mail', 'displayName', 'sAMAccountName')):\n",
    "        print(data)"
   ]
  },
  {
   "cell_type": "markdown",
   "metadata": {},
   "source": [
    "# Import from DB and Export to DB - db.py"
   ]
  },
  {
   "cell_type": "markdown",
   "metadata": {},
   "source": [
    "## Connect DB"
   ]
  },
  {
   "cell_type": "code",
   "execution_count": null,
   "metadata": {},
   "outputs": [],
   "source": [
    "from db import db"
   ]
  },
  {
   "cell_type": "code",
   "execution_count": null,
   "metadata": {},
   "outputs": [],
   "source": [
    "db_obj = db()"
   ]
  },
  {
   "cell_type": "code",
   "execution_count": null,
   "metadata": {},
   "outputs": [],
   "source": [
    "db_obj.connect()"
   ]
  },
  {
   "cell_type": "code",
   "execution_count": null,
   "metadata": {},
   "outputs": [],
   "source": [
    "db_obj.get_all_people_as_df()"
   ]
  },
  {
   "cell_type": "markdown",
   "metadata": {},
   "source": [
    "## Data Mapping"
   ]
  },
  {
   "cell_type": "code",
   "execution_count": null,
   "metadata": {},
   "outputs": [],
   "source": [
    "db_obj.people_df.head()"
   ]
  },
  {
   "cell_type": "code",
   "execution_count": null,
   "metadata": {},
   "outputs": [],
   "source": [
    "db_obj.people_df[\"name\"][1] = \"JACKSON, Jack\""
   ]
  },
  {
   "cell_type": "code",
   "execution_count": null,
   "metadata": {},
   "outputs": [],
   "source": [
    "db_obj.people_df.head()"
   ]
  },
  {
   "cell_type": "markdown",
   "metadata": {},
   "source": [
    "## Update DB"
   ]
  },
  {
   "cell_type": "code",
   "execution_count": null,
   "metadata": {},
   "outputs": [],
   "source": [
    "db_obj.update_db()"
   ]
  },
  {
   "cell_type": "code",
   "execution_count": null,
   "metadata": {},
   "outputs": [],
   "source": []
  },
  {
   "cell_type": "code",
   "execution_count": null,
   "metadata": {},
   "outputs": [],
   "source": []
  }
 ],
 "metadata": {
  "kernelspec": {
   "display_name": "Python 3",
   "language": "python",
   "name": "python3"
  },
  "language_info": {
   "codemirror_mode": {
    "name": "ipython",
    "version": 3
   },
   "file_extension": ".py",
   "mimetype": "text/x-python",
   "name": "python",
   "nbconvert_exporter": "python",
   "pygments_lexer": "ipython3",
   "version": "3.8.5"
  }
 },
 "nbformat": 4,
 "nbformat_minor": 4
}
